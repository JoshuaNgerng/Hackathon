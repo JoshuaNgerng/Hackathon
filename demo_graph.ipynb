{
 "cells": [
  {
   "cell_type": "code",
   "execution_count": 1,
   "metadata": {},
   "outputs": [],
   "source": [
    "import json\n",
    "import pandas as pd"
   ]
  },
  {
   "cell_type": "code",
   "execution_count": 2,
   "metadata": {},
   "outputs": [],
   "source": [
    "json_data = []\n",
    "with open('cadets.json', 'r') as f:\n",
    "    for line in f:\n",
    "        json_data += json.loads(line)\n",
    "del line\n",
    "del f"
   ]
  },
  {
   "cell_type": "code",
   "execution_count": 3,
   "metadata": {},
   "outputs": [
    {
     "name": "stdout",
     "output_type": "stream",
     "text": [
      "344\n"
     ]
    }
   ],
   "source": [
    "# json_data[0]\n",
    "print(len(json_data))"
   ]
  },
  {
   "cell_type": "code",
   "execution_count": null,
   "metadata": {},
   "outputs": [],
   "source": [
    "# print(type(json_data[0][1]))\n",
    "# for key in json_data[0][0]:\n",
    "# \tprint(key)"
   ]
  },
  {
   "cell_type": "code",
   "execution_count": null,
   "metadata": {},
   "outputs": [],
   "source": [
    "keys = [\"login\", \"url\", \"displayname\", \"pool_month\", \"pool_year\"]\n",
    "list1 = [json_data[0][key] for key in keys]\n",
    "print(list1)"
   ]
  },
  {
   "cell_type": "code",
   "execution_count": null,
   "metadata": {},
   "outputs": [],
   "source": [
    "list_t = json_data[0][\"cursus_users\"][1]\n",
    "list1.append(list_t[\"blackholed_at\"])\n",
    "print(list1)\n",
    "for i in range(0, len(list1)):\n",
    "\tprint(type(list1[i]))"
   ]
  },
  {
   "cell_type": "code",
   "execution_count": 6,
   "metadata": {},
   "outputs": [],
   "source": [
    "def make_data(json_list: list, now: int) -> pd.DataFrame:\n",
    "\tdata = {\"Name\": [], \"Full_Name\": [], \"Level\": [],\n",
    "\t\t\t\"batch_month\": [], \"batch_year\": [], \n",
    "\t\t\t\"blackhole_date\": []}#, \"days_before_blackhole\": []}\n",
    "\tfor i in range(0, len(json_list)):\n",
    "\t\tdata[\"Name\"].append(json_list[i][\"login\"])\n",
    "\t\tdata[\"Full_Name\"].append(json_list[i][\"displayname\"])\n",
    "\t\tdata[\"batch_month\"].append(json_list[i][\"pool_month\"])\n",
    "\t\tdata[\"batch_year\"].append(json_list[i][\"pool_year\"])\n",
    "\t\tdata[\"Level\"].append(json_list[i][\"cursus_users\"][1][\"level\"])\n",
    "\t\tdata[\"blackhole_date\"].append(json_list[i][\"cursus_users\"][1][\"blackholed_at\"])\n",
    "\treturn (pd.DataFrame(data))"
   ]
  },
  {
   "cell_type": "code",
   "execution_count": 7,
   "metadata": {},
   "outputs": [
    {
     "data": {
      "text/html": [
       "<div>\n",
       "<style scoped>\n",
       "    .dataframe tbody tr th:only-of-type {\n",
       "        vertical-align: middle;\n",
       "    }\n",
       "\n",
       "    .dataframe tbody tr th {\n",
       "        vertical-align: top;\n",
       "    }\n",
       "\n",
       "    .dataframe thead th {\n",
       "        text-align: right;\n",
       "    }\n",
       "</style>\n",
       "<table border=\"1\" class=\"dataframe\">\n",
       "  <thead>\n",
       "    <tr style=\"text-align: right;\">\n",
       "      <th></th>\n",
       "      <th>Name</th>\n",
       "      <th>Full_Name</th>\n",
       "      <th>Level</th>\n",
       "      <th>batch_month</th>\n",
       "      <th>batch_year</th>\n",
       "      <th>blackhole_date</th>\n",
       "    </tr>\n",
       "  </thead>\n",
       "  <tbody>\n",
       "    <tr>\n",
       "      <th>0</th>\n",
       "      <td>wehuang</td>\n",
       "      <td>Weizheng Huang</td>\n",
       "      <td>0.61</td>\n",
       "      <td>august</td>\n",
       "      <td>2023</td>\n",
       "      <td>2024-02-18T02:00:00.000Z</td>\n",
       "    </tr>\n",
       "    <tr>\n",
       "      <th>1</th>\n",
       "      <td>rteoh</td>\n",
       "      <td>Ryan Teoh</td>\n",
       "      <td>0.00</td>\n",
       "      <td>august</td>\n",
       "      <td>2023</td>\n",
       "      <td>2024-01-01T02:00:00.000Z</td>\n",
       "    </tr>\n",
       "    <tr>\n",
       "      <th>2</th>\n",
       "      <td>ychai</td>\n",
       "      <td>Yong Kang Chai</td>\n",
       "      <td>0.00</td>\n",
       "      <td>august</td>\n",
       "      <td>2023</td>\n",
       "      <td>2024-01-01T02:00:00.000Z</td>\n",
       "    </tr>\n",
       "    <tr>\n",
       "      <th>3</th>\n",
       "      <td>tjun-yu</td>\n",
       "      <td>Tan Jun Yu</td>\n",
       "      <td>0.00</td>\n",
       "      <td>august</td>\n",
       "      <td>2023</td>\n",
       "      <td>2024-01-01T02:00:00.000Z</td>\n",
       "    </tr>\n",
       "    <tr>\n",
       "      <th>4</th>\n",
       "      <td>kiloh</td>\n",
       "      <td>Kian Feng Loh</td>\n",
       "      <td>0.00</td>\n",
       "      <td>august</td>\n",
       "      <td>2023</td>\n",
       "      <td>2024-01-01T02:00:00.000Z</td>\n",
       "    </tr>\n",
       "  </tbody>\n",
       "</table>\n",
       "</div>"
      ],
      "text/plain": [
       "      Name       Full_Name  Level batch_month batch_year  \\\n",
       "0  wehuang  Weizheng Huang   0.61      august       2023   \n",
       "1    rteoh       Ryan Teoh   0.00      august       2023   \n",
       "2    ychai  Yong Kang Chai   0.00      august       2023   \n",
       "3  tjun-yu      Tan Jun Yu   0.00      august       2023   \n",
       "4    kiloh   Kian Feng Loh   0.00      august       2023   \n",
       "\n",
       "             blackhole_date  \n",
       "0  2024-02-18T02:00:00.000Z  \n",
       "1  2024-01-01T02:00:00.000Z  \n",
       "2  2024-01-01T02:00:00.000Z  \n",
       "3  2024-01-01T02:00:00.000Z  \n",
       "4  2024-01-01T02:00:00.000Z  "
      ]
     },
     "execution_count": 7,
     "metadata": {},
     "output_type": "execute_result"
    }
   ],
   "source": [
    "df = make_data(json_data, 5)\n",
    "df.head()"
   ]
  },
  {
   "cell_type": "code",
   "execution_count": 8,
   "metadata": {},
   "outputs": [],
   "source": [
    "from datetime import datetime\n",
    "\n",
    "def str_date(s: str, format: str) -> datetime:\n",
    "\tif (s == None):\n",
    "\t\treturn (None)\n",
    "\ts = s[0: 10]\n",
    "\tprint(s)\n",
    "\treturn (datetime.strptime(s, format))"
   ]
  },
  {
   "cell_type": "code",
   "execution_count": 9,
   "metadata": {},
   "outputs": [
    {
     "name": "stdout",
     "output_type": "stream",
     "text": [
      "now = datetime.datetime(2023, 10, 8, 14, 58, 20, 30206)\n"
     ]
    }
   ],
   "source": [
    "now = datetime.now()\n",
    "print(f\"{now = }\")"
   ]
  },
  {
   "cell_type": "code",
   "execution_count": 10,
   "metadata": {},
   "outputs": [
    {
     "name": "stdout",
     "output_type": "stream",
     "text": [
      "344\n",
      "i = 170\n",
      "i = 214\n",
      "i = 218\n",
      "i = 227\n",
      "i = 237\n",
      "i = 284\n",
      "i = 285\n",
      "i = 287\n",
      "i = 289\n",
      "i = 298\n",
      "i = 299\n",
      "i = 303\n",
      "i = 308\n",
      "i = 330\n",
      "i = 339\n",
      "Name                   edlim\n",
      "Full_Name         Edison Lim\n",
      "Level                  10.83\n",
      "batch_month         february\n",
      "batch_year              2022\n",
      "blackhole_date          None\n",
      "Name: 214, dtype: object\n"
     ]
    }
   ],
   "source": [
    "print(len(df['blackhole_date']))\n",
    "for i in range(0, len(df['blackhole_date']) - 1):\n",
    "\tif (df['blackhole_date'][i] == None):\n",
    "\t\tprint(f\"{i = }\")\n",
    "\telif (len(df['blackhole_date'][i]) > 24):\n",
    "\t\tprint('something')\n",
    "print(df.iloc[214, :])"
   ]
  },
  {
   "cell_type": "code",
   "execution_count": null,
   "metadata": {},
   "outputs": [],
   "source": [
    "print(type(df['blackhole_date'][213]))\n",
    "print(df['blackhole_date'][213])\n",
    "t = str_date(df['blackhole_date'][213], \"%Y-%m-%d\")\n",
    "print(f\"{t = }\")"
   ]
  },
  {
   "cell_type": "code",
   "execution_count": null,
   "metadata": {},
   "outputs": [],
   "source": [
    "now = datetime.now()\n",
    "delta = t - now\n",
    "print((t - now).days)\n",
    "print(type(delta.days))"
   ]
  },
  {
   "cell_type": "code",
   "execution_count": 11,
   "metadata": {},
   "outputs": [],
   "source": [
    "from datetime import datetime\n",
    "\n",
    "def str_date(s: str) -> datetime:\n",
    "\tif (s == None):\n",
    "\t\treturn (None)\n",
    "\tformat = \"%Y-%m-%d\"\n",
    "\ts = s[0: 10]\n",
    "\treturn (datetime.strptime(s, format))"
   ]
  },
  {
   "cell_type": "code",
   "execution_count": 14,
   "metadata": {},
   "outputs": [],
   "source": [
    "def make_data(json_list: list, now: datetime) -> pd.DataFrame:\n",
    "\tdata = {\"Name\": [], \"Full_Name\": [], \"Level\": [],\n",
    "\t\t\t\"batch_month\": [], \"batch_year\": [], \n",
    "\t\t\t\"blackhole_date\": [], \"days_before_blackhole\": [], \"status\": []}\n",
    "\tfor i in range(0, len(json_list)):\n",
    "\t\tdata[\"Name\"].append(json_list[i][\"login\"])\n",
    "\t\tdata[\"Full_Name\"].append(json_list[i][\"displayname\"])\n",
    "\t\tdata[\"batch_month\"].append(json_list[i][\"pool_month\"])\n",
    "\t\tdata[\"batch_year\"].append(json_list[i][\"pool_year\"])\n",
    "\t\tdata[\"Level\"].append(json_list[i][\"cursus_users\"][1][\"level\"])\n",
    "\t\tt = str_date(json_list[i][\"cursus_users\"][1][\"blackholed_at\"])\n",
    "\t\tif (t):\n",
    "\t\t\tdiff = (t - now).days\n",
    "\t\telse:\n",
    "\t\t\tdiff = None\n",
    "\t\tdata[\"blackhole_date\"].append(t)\n",
    "\t\tdata[\"days_before_blackhole\"].append(diff)\n",
    "\t\tgrade = json_list[i]['cursus_users'][1]['grade']\n",
    "\t\tif (diff is None and grade in [\"Member\", \"Learner\"]):\n",
    "\t\t\tdata[\"status\"].append(\"Specialisation\")\n",
    "\t\telif (diff < 0 and grade not in [\"Member\", \"Learner\"]):\n",
    "\t\t\tdata[\"status\"].append(\"Dropped out\")\n",
    "\t\telif (diff > 0 and grade in [\"Member\", \"Learner\"]):\n",
    "\t\t\tdata[\"status\"].append(\"In Core\")\n",
    "\t\telse:\n",
    "\t\t\tdata[\"status\"].append(\"Unknown\")\n",
    "\treturn (pd.DataFrame(data))"
   ]
  },
  {
   "cell_type": "code",
   "execution_count": 15,
   "metadata": {},
   "outputs": [
    {
     "data": {
      "text/html": [
       "<div>\n",
       "<style scoped>\n",
       "    .dataframe tbody tr th:only-of-type {\n",
       "        vertical-align: middle;\n",
       "    }\n",
       "\n",
       "    .dataframe tbody tr th {\n",
       "        vertical-align: top;\n",
       "    }\n",
       "\n",
       "    .dataframe thead th {\n",
       "        text-align: right;\n",
       "    }\n",
       "</style>\n",
       "<table border=\"1\" class=\"dataframe\">\n",
       "  <thead>\n",
       "    <tr style=\"text-align: right;\">\n",
       "      <th></th>\n",
       "      <th>Name</th>\n",
       "      <th>Full_Name</th>\n",
       "      <th>Level</th>\n",
       "      <th>batch_month</th>\n",
       "      <th>batch_year</th>\n",
       "      <th>blackhole_date</th>\n",
       "      <th>days_before_blackhole</th>\n",
       "      <th>status</th>\n",
       "    </tr>\n",
       "  </thead>\n",
       "  <tbody>\n",
       "    <tr>\n",
       "      <th>0</th>\n",
       "      <td>wehuang</td>\n",
       "      <td>Weizheng Huang</td>\n",
       "      <td>0.61</td>\n",
       "      <td>august</td>\n",
       "      <td>2023</td>\n",
       "      <td>2024-02-18</td>\n",
       "      <td>132.0</td>\n",
       "      <td>In Core</td>\n",
       "    </tr>\n",
       "    <tr>\n",
       "      <th>1</th>\n",
       "      <td>rteoh</td>\n",
       "      <td>Ryan Teoh</td>\n",
       "      <td>0.00</td>\n",
       "      <td>august</td>\n",
       "      <td>2023</td>\n",
       "      <td>2024-01-01</td>\n",
       "      <td>84.0</td>\n",
       "      <td>In Core</td>\n",
       "    </tr>\n",
       "    <tr>\n",
       "      <th>2</th>\n",
       "      <td>ychai</td>\n",
       "      <td>Yong Kang Chai</td>\n",
       "      <td>0.00</td>\n",
       "      <td>august</td>\n",
       "      <td>2023</td>\n",
       "      <td>2024-01-01</td>\n",
       "      <td>84.0</td>\n",
       "      <td>In Core</td>\n",
       "    </tr>\n",
       "    <tr>\n",
       "      <th>3</th>\n",
       "      <td>tjun-yu</td>\n",
       "      <td>Tan Jun Yu</td>\n",
       "      <td>0.00</td>\n",
       "      <td>august</td>\n",
       "      <td>2023</td>\n",
       "      <td>2024-01-01</td>\n",
       "      <td>84.0</td>\n",
       "      <td>In Core</td>\n",
       "    </tr>\n",
       "    <tr>\n",
       "      <th>4</th>\n",
       "      <td>kiloh</td>\n",
       "      <td>Kian Feng Loh</td>\n",
       "      <td>0.00</td>\n",
       "      <td>august</td>\n",
       "      <td>2023</td>\n",
       "      <td>2024-01-01</td>\n",
       "      <td>84.0</td>\n",
       "      <td>In Core</td>\n",
       "    </tr>\n",
       "  </tbody>\n",
       "</table>\n",
       "</div>"
      ],
      "text/plain": [
       "      Name       Full_Name  Level batch_month batch_year blackhole_date  \\\n",
       "0  wehuang  Weizheng Huang   0.61      august       2023     2024-02-18   \n",
       "1    rteoh       Ryan Teoh   0.00      august       2023     2024-01-01   \n",
       "2    ychai  Yong Kang Chai   0.00      august       2023     2024-01-01   \n",
       "3  tjun-yu      Tan Jun Yu   0.00      august       2023     2024-01-01   \n",
       "4    kiloh   Kian Feng Loh   0.00      august       2023     2024-01-01   \n",
       "\n",
       "   days_before_blackhole   status  \n",
       "0                  132.0  In Core  \n",
       "1                   84.0  In Core  \n",
       "2                   84.0  In Core  \n",
       "3                   84.0  In Core  \n",
       "4                   84.0  In Core  "
      ]
     },
     "execution_count": 15,
     "metadata": {},
     "output_type": "execute_result"
    }
   ],
   "source": [
    "df = make_data(json_data, datetime.now())\n",
    "df.head()"
   ]
  },
  {
   "cell_type": "code",
   "execution_count": 16,
   "metadata": {},
   "outputs": [
    {
     "data": {
      "text/plain": [
       "(array([4., 0., 5.]), array([ 0,  7, 14, 30]), <a list of 3 Patch objects>)"
      ]
     },
     "execution_count": 16,
     "metadata": {},
     "output_type": "execute_result"
    },
    {
     "data": {
      "image/png": "[encoded data removed]",
      "text/plain": [
       "<Figure size 432x288 with 1 Axes>"
      ]
     },
     "metadata": {
      "needs_background": "light"
     },
     "output_type": "display_data"
    }
   ],
   "source": [
    "from matplotlib import pyplot as plt\n",
    "\n",
    "# try to filter ppl from batch 2020 august and those how are \n",
    "# 0-14, 14-30, 30+\n",
    "\n",
    "bins = [0, 7, 14, 30]\n",
    "temp = df.loc[(df['batch_month'] == \"august\" ) & (df['batch_year'] == \"2022\") & (df['days_before_blackhole'] > 0)]\n",
    "temp.head()\n",
    "# color_list=['black', 'red', 'green', 'blue', 'cyan']\n",
    "# colours = []\n",
    "# l = len(color_list)\n",
    "# k = 0 \n",
    "# for i in range(0, len(bins)):\n",
    "# \tcolours.append(color_list[i - k])\n",
    "# \tif (i == l - 1):\n",
    "# \t\tk += 5\n",
    "# print(colours)\n",
    "plt.hist(temp['days_before_blackhole'], bins=bins, color=\"lightblue\", edgecolor='black')"
   ]
  },
  {
   "cell_type": "code",
   "execution_count": 24,
   "metadata": {},
   "outputs": [
    {
     "data": {
      "text/plain": [
       "([<matplotlib.patches.Wedge at 0x24ef9838a00>,\n",
       "  <matplotlib.patches.Wedge at 0x24ef9838eb0>,\n",
       "  <matplotlib.patches.Wedge at 0x24ef9844370>,\n",
       "  <matplotlib.patches.Wedge at 0x24ef98447f0>],\n",
       " [Text(0.9829959026438434, 0.49367910162920164, 'one week 14.8%'),\n",
       "  Text(0.6568744447537899, 0.8823355165861797, 'two week 0.0%'),\n",
       "  Text(0.06395932512941854, 1.0981389733221336, 'one month 18.5%'),\n",
       "  Text(-0.5499999702695119, -0.9526279613277874, 'many 66.7%')])"
      ]
     },
     "execution_count": 24,
     "metadata": {},
     "output_type": "execute_result"
    },
    {
     "data": {
      "image/png": "[encoded data removed]",
      "text/plain": [
       "<Figure size 432x288 with 1 Axes>"
      ]
     },
     "metadata": {},
     "output_type": "display_data"
    }
   ],
   "source": [
    "range = [0, 7, 14, 30]\n",
    "temp = df.loc[(df['batch_month'] == \"august\" ) & (df['batch_year'] == \"2022\") & (df['days_before_blackhole'] > 0)]\n",
    "max = temp['days_before_blackhole'].count()\n",
    "one_wk = temp.query(\"days_before_blackhole > 0 and days_before_blackhole <= 7\")['days_before_blackhole'].count()\n",
    "two_wk = temp.query(\"days_before_blackhole > 7 and days_before_blackhole <= 14\")['days_before_blackhole'].count()\n",
    "one_mon = temp.query(\"days_before_blackhole > 14 and days_before_blackhole <= 30\")['days_before_blackhole'].count()\n",
    "many = temp.query(\"days_before_blackhole > 30\")['days_before_blackhole'].count()\n",
    "l = [one_wk, two_wk, one_mon, many]\n",
    "my_labels = [f\"one week {(one_wk/max * 100):.1f}%\", f\"two week {(two_wk/max * 100):.1f}%\", f\"one month {(one_mon/max * 100):.1f}%\", f\"many {(many/max * 100):.1f}%\"]\n",
    "plt.pie(l, labels=my_labels, wedgeprops = {\"edgecolor\" : \"black\", 'linewidth': 2, 'antialiased': True})\n",
    "plt.savefig('pie.png', bbox_inches='tight')"
   ]
  },
  {
   "cell_type": "code",
   "execution_count": null,
   "metadata": {},
   "outputs": [],
   "source": [
    "def filter_range_df(df: pd.DataFrame, key_word: str, min: int, max: int) -> pd.DataFrame:\n",
    "\tif (key_word is None):\n",
    "\t\treturn (df)\n",
    "\tif (min is None and max is None):\n",
    "\t\treturn (df)\n",
    "\tif (min is not None and max is not None):\n",
    "\t\tq = f\"{key_word} >= {min} and {key_word} < {max}\"\n",
    "\telif (min is None and max is not None):\n",
    "\t\tq = f\"{key_word} < {max}\"\n",
    "\telse:#if (min is not ):\n",
    "\t\tq = f\"{key_word} >= {min}\"\n",
    "\treturn (df.query(q))\n"
   ]
  },
  {
   "cell_type": "code",
   "execution_count": null,
   "metadata": {},
   "outputs": [],
   "source": [
    "def filter_df_find(df: pd.DataFrame, key_word: str, item: str):\n",
    "\tif (key_word is None):\n",
    "\t\treturn (df)\n",
    "\tif (item is None):\n",
    "\t\treturn (df)\n",
    "\treturn (df.query(f\"{key_word} == '{item}'\"))"
   ]
  },
  {
   "cell_type": "code",
   "execution_count": null,
   "metadata": {},
   "outputs": [],
   "source": [
    "print(df.batch_month.unique())"
   ]
  },
  {
   "cell_type": "code",
   "execution_count": null,
   "metadata": {},
   "outputs": [],
   "source": [
    "df2 = filter_df_find(df, \"batch_month\", \"april\")\n",
    "df2 = filter_df_find(df2, \"batch_year\", \"2021\")\n",
    "df2 = filter_range_df(df2, \"days_before_blackhole\", 20, 70)\n",
    "df2.head()"
   ]
  },
  {
   "cell_type": "code",
   "execution_count": null,
   "metadata": {},
   "outputs": [],
   "source": [
    "def make_data_state(json_list: list, now: datetime) -> pd.DataFrame:\n",
    "\tdata = {\"Name\": [], \"Full_Name\": [], \"Level\": [],\n",
    "\t\t\t\"batch_month\": [], \"batch_year\": [], \n",
    "\t\t\t\"blackhole_date\": [], \"days_before_blackhole\": [], \"status\": []}\n",
    "\tfor i in range(0, len(json_list[0])):\n",
    "\t\tdata[\"Name\"].append(json_list[0][i][\"login\"])\n",
    "\t\tdata[\"Full_Name\"].append(json_list[0][i][\"displayname\"])\n",
    "\t\tdata[\"batch_month\"].append(json_list[0][i][\"pool_month\"])\n",
    "\t\tdata[\"batch_year\"].append(json_list[0][i][\"pool_year\"])\n",
    "\t\tdata[\"Level\"].append(json_list[0][i][\"cursus_users\"][1][\"level\"])\n",
    "\t\tt = str_date(json_list[0][i][\"cursus_users\"][1][\"blackholed_at\"])\n",
    "\t\tif (t):\n",
    "\t\t\tdiff = (t - now).days\n",
    "\t\telse:\n",
    "\t\t\tdiff = None\n",
    "\t\tdata[\"blackhole_date\"].append(t)\n",
    "\t\tdata[\"days_before_blackhole\"].append(diff)\n",
    "\t\tgrade = json_list[0][i]['cursus_users'][1]['grade']\n",
    "\t\tif (diff is None and grade in [\"Member\", \"Learner\"]):\n",
    "\t\t\tdata[\"status\"].append(\"Specialisation\")\n",
    "\t\telif (diff < 0 and grade not in [\"Member\", \"Learner\"]):\n",
    "\t\t\tdata[\"status\"].append(\"Dropped out\")\n",
    "\t\telif (diff > 0 and grade in [\"Member\", \"Learner\"]):\n",
    "\t\t\tdata[\"status\"].append(\"In Core\")\n",
    "\t\telse:\n",
    "\t\t\tdata[\"status\"].append(\"Unknown\")\n",
    "\treturn (pd.DataFrame(data))"
   ]
  },
  {
   "cell_type": "code",
   "execution_count": null,
   "metadata": {},
   "outputs": [],
   "source": [
    "def make_cadet_progress(json_list: list) -> pd.DataFrame:\n",
    "\tdata = {\"Name\": [], \"Full_Name\": [], \"Level\": [],\n",
    "\t\t\t\"batch_month\": [], \"batch_year\": [], \"projects\": []}\n",
    "\tsubdata = {}\n",
    "\tnames = [\"42cursus-libft\", \"42cursus-get_next_line\", \"born2beroot\", \"42cursus-ft_printf\",\n",
    "\t\t  \t \"42cursus-push_swap\", \"minitalk\", \"pipex\", \"so_long\", \"42cursus-fdf\", \n",
    "\t\t\t \"42cursus-philosophers\", \"42cursus-minishell\", \"cpp-module-00\", \"cpp-module-01\", \n",
    "\t\t\t \"cpp-module-02\", \"cpp-module-03\", \"cpp-module-04\", \"cub3d\", \"minirt\", \"netpractice\",\n",
    "\t\t\t \"cpp-module-05\", \"cpp-module-06\", \"cpp-module-07\", \"cpp-module-08\", \"cpp-module-09\",\n",
    "\t\t\t \"inception\", \"webserv\", \"ft_irc\", \"ft_transcendence\"]\n",
    "\tfor name in names:\n",
    "\t\tdata[name] = []\n",
    "\tfor i in range(0, len(json_list)):\n",
    "\t\tdata[\"Name\"].append(json_list[i][\"login\"])\n",
    "\t\tdata[\"Full_Name\"].append(json_list[i][\"displayname\"])\n",
    "\t\tdata[\"batch_month\"].append(json_list[i][\"pool_month\"])\n",
    "\t\tdata[\"batch_year\"].append(json_list[i][\"pool_year\"])\n",
    "\t\tdata[\"Level\"].append(json_list[i][\"cursus_users\"][1][\"level\"])\n",
    "\t\tl = json_list[i][\"projects_users\"]\n",
    "\t\tfor j in range(0, len(l)):\n",
    "\t\t\tchecker = {names[k]:0 for k in range(len(names))}\n",
    "\t\t\tstart = str_date(l[j][\"created_at\"])\n",
    "\t\t\tif (l[j]['validated?'] == True):\n",
    "\t\t\t\tend = str_date(l[j][\"marked_at\"])\n",
    "\t\t\telse:\n",
    "\t\t\t\tend = None\n",
    "\t\t\tname = l[j][\"project\"][\"slug\"]\n",
    "\t\t\tif (name in names):\n",
    "\t\t\t\tdata[name].append([start, end, l[j]['final_mark']])\n",
    "\t\t\t\tchecker[name] = 1\n",
    "\t\t\tfor name in checker:\n",
    "\t\t\t\tif (checker[name] == 0):\n",
    "\t\t\t\t\tdata[name].append(None)\n",
    "\t\tprint(len(data[\"batch_month\"]))\n",
    "\t\tprint(len(data['42cursus-libft']))\n",
    "\treturn(pd.DataFrame(data))"
   ]
  },
  {
   "cell_type": "code",
   "execution_count": null,
   "metadata": {},
   "outputs": [],
   "source": [
    "df_time = make_cadet_progress(json_data)\n",
    "df_time.head()"
   ]
  },
  {
   "cell_type": "code",
   "execution_count": null,
   "metadata": {},
   "outputs": [],
   "source": [
    "# for i in range(0, len(json_data)):\n",
    "# for key in json_data[0]:\n",
    "# \tprint(key)\n",
    "print(type(json_data))\n",
    "print(len(json_data))\n",
    "print(type(len(json_data)))\n",
    "print(json_data[1]['projects_users'])\n",
    "print(type(json_data[1]))"
   ]
  },
  {
   "cell_type": "code",
   "execution_count": null,
   "metadata": {},
   "outputs": [],
   "source": [
    "print(len(json_data[0][\"projects_users\"]))\n",
    "print(json_data[0][\"projects_users\"][0][\"project\"][\"slug\"])\n",
    "print(json_data[0][\"projects_users\"][0][\"marked_at\"])\n",
    "print(json_data[0][\"projects_users\"][0][\"created_at\"])\n",
    "print(json_data[0][\"projects_users\"][0][\"final_mark\"])"
   ]
  }
 ],
 "metadata": {
  "kernelspec": {
   "display_name": "base",
   "language": "python",
   "name": "python3"
  },
  "language_info": {
   "codemirror_mode": {
    "name": "ipython",
    "version": 3
   },
   "file_extension": ".py",
   "mimetype": "text/x-python",
   "name": "python",
   "nbconvert_exporter": "python",
   "pygments_lexer": "ipython3",
   "version": "3.8.3"
  },
  "orig_nbformat": 4
 },
 "nbformat": 4,
 "nbformat_minor": 2
}

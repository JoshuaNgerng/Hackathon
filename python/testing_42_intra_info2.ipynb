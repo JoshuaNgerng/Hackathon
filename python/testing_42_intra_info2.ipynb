{
 "cells": [
  {
   "cell_type": "code",
   "execution_count": 1,
   "metadata": {},
   "outputs": [],
   "source": [
    "import json\n",
    "import pandas as pd"
   ]
  },
  {
   "cell_type": "code",
   "execution_count": 2,
   "metadata": {},
   "outputs": [],
   "source": [
    "json_data = []\n",
    "with open('cadets.json', 'r') as f:\n",
    "    for line in f:\n",
    "        json_data.append(json.loads(line))"
   ]
  },
  {
   "cell_type": "code",
   "execution_count": 3,
   "metadata": {},
   "outputs": [
    {
     "name": "stdout",
     "output_type": "stream",
     "text": [
      "1\n"
     ]
    }
   ],
   "source": [
    "# json_data[0]\n",
    "print(len(json_data))"
   ]
  },
  {
   "cell_type": "code",
   "execution_count": 4,
   "metadata": {},
   "outputs": [
    {
     "name": "stdout",
     "output_type": "stream",
     "text": [
      "<class 'dict'>\n",
      "id\n",
      "email\n",
      "login\n",
      "first_name\n",
      "last_name\n",
      "usual_full_name\n",
      "usual_first_name\n",
      "url\n",
      "phone\n",
      "displayname\n",
      "kind\n",
      "image\n",
      "staff?\n",
      "correction_point\n",
      "pool_month\n",
      "pool_year\n",
      "location\n",
      "wallet\n",
      "anonymize_date\n",
      "data_erasure_date\n",
      "created_at\n",
      "updated_at\n",
      "alumnized_at\n",
      "alumni?\n",
      "active?\n",
      "groups\n",
      "cursus_users\n",
      "projects_users\n",
      "languages_users\n",
      "achievements\n",
      "titles\n",
      "titles_users\n",
      "partnerships\n",
      "patroned\n",
      "patroning\n",
      "expertises_users\n",
      "roles\n",
      "campus\n",
      "campus_users\n"
     ]
    }
   ],
   "source": [
    "print(type(json_data[0][1]))\n",
    "for key in json_data[0][0]:\n",
    "\tprint(key)"
   ]
  },
  {
   "cell_type": "code",
   "execution_count": 5,
   "metadata": {},
   "outputs": [
    {
     "name": "stdout",
     "output_type": "stream",
     "text": [
      "['wehuang', 'https://api.intra.42.fr/v2/users/wehuang', 'Weizheng Huang', 'august', '2023']\n"
     ]
    }
   ],
   "source": [
    "keys = [\"login\", \"url\", \"displayname\", \"pool_month\", \"pool_year\"]\n",
    "list1 = [json_data[0][0][key] for key in keys]\n",
    "print(list1)"
   ]
  },
  {
   "cell_type": "code",
   "execution_count": 6,
   "metadata": {},
   "outputs": [
    {
     "name": "stdout",
     "output_type": "stream",
     "text": [
      "['wehuang', 'https://api.intra.42.fr/v2/users/wehuang', 'Weizheng Huang', 'august', '2023', '2024-02-18T02:00:00.000Z']\n",
      "<class 'str'>\n",
      "<class 'str'>\n",
      "<class 'str'>\n",
      "<class 'str'>\n",
      "<class 'str'>\n",
      "<class 'str'>\n"
     ]
    }
   ],
   "source": [
    "list_t = json_data[0][0][\"cursus_users\"][1]\n",
    "list1.append(list_t[\"blackholed_at\"])\n",
    "print(list1)\n",
    "for i in range(0, len(list1)):\n",
    "\tprint(type(list1[i]))"
   ]
  },
  {
   "cell_type": "code",
   "execution_count": 7,
   "metadata": {},
   "outputs": [],
   "source": [
    "def make_data(json_list: list, now: int) -> pd.DataFrame:\n",
    "\tdata = {\"Name\": [], \"Full_Name\": [], \"Level\": [],\n",
    "\t\t\t\"batch_month\": [], \"batch_year\": [], \n",
    "\t\t\t\"blackhole_date\": []}#, \"days_before_blackhole\": []}\n",
    "\tfor i in range(0, len(json_list[0])):\n",
    "\t\tdata[\"Name\"].append(json_list[0][i][\"login\"])\n",
    "\t\tdata[\"Full_Name\"].append(json_list[0][i][\"displayname\"])\n",
    "\t\tdata[\"batch_month\"].append(json_list[0][i][\"pool_month\"])\n",
    "\t\tdata[\"batch_year\"].append(json_list[0][i][\"pool_year\"])\n",
    "\t\tdata[\"Level\"].append(json_list[0][i][\"cursus_users\"][1][\"level\"])\n",
    "\t\tdata[\"blackhole_date\"].append(json_list[0][i][\"cursus_users\"][1][\"blackholed_at\"])\n",
    "\treturn (pd.DataFrame(data))"
   ]
  },
  {
   "cell_type": "code",
   "execution_count": 8,
   "metadata": {},
   "outputs": [
    {
     "data": {
      "text/html": [
       "<div>\n",
       "<style scoped>\n",
       "    .dataframe tbody tr th:only-of-type {\n",
       "        vertical-align: middle;\n",
       "    }\n",
       "\n",
       "    .dataframe tbody tr th {\n",
       "        vertical-align: top;\n",
       "    }\n",
       "\n",
       "    .dataframe thead th {\n",
       "        text-align: right;\n",
       "    }\n",
       "</style>\n",
       "<table border=\"1\" class=\"dataframe\">\n",
       "  <thead>\n",
       "    <tr style=\"text-align: right;\">\n",
       "      <th></th>\n",
       "      <th>Name</th>\n",
       "      <th>Full_Name</th>\n",
       "      <th>Level</th>\n",
       "      <th>batch_month</th>\n",
       "      <th>batch_year</th>\n",
       "      <th>blackhole_date</th>\n",
       "    </tr>\n",
       "  </thead>\n",
       "  <tbody>\n",
       "    <tr>\n",
       "      <th>0</th>\n",
       "      <td>wehuang</td>\n",
       "      <td>Weizheng Huang</td>\n",
       "      <td>0.61</td>\n",
       "      <td>august</td>\n",
       "      <td>2023</td>\n",
       "      <td>2024-02-18T02:00:00.000Z</td>\n",
       "    </tr>\n",
       "    <tr>\n",
       "      <th>1</th>\n",
       "      <td>rteoh</td>\n",
       "      <td>Ryan Teoh</td>\n",
       "      <td>0.00</td>\n",
       "      <td>august</td>\n",
       "      <td>2023</td>\n",
       "      <td>2024-01-01T02:00:00.000Z</td>\n",
       "    </tr>\n",
       "    <tr>\n",
       "      <th>2</th>\n",
       "      <td>ychai</td>\n",
       "      <td>Yong Kang Chai</td>\n",
       "      <td>0.00</td>\n",
       "      <td>august</td>\n",
       "      <td>2023</td>\n",
       "      <td>2024-01-01T02:00:00.000Z</td>\n",
       "    </tr>\n",
       "    <tr>\n",
       "      <th>3</th>\n",
       "      <td>tjun-yu</td>\n",
       "      <td>Tan Jun Yu</td>\n",
       "      <td>0.00</td>\n",
       "      <td>august</td>\n",
       "      <td>2023</td>\n",
       "      <td>2024-01-01T02:00:00.000Z</td>\n",
       "    </tr>\n",
       "    <tr>\n",
       "      <th>4</th>\n",
       "      <td>kiloh</td>\n",
       "      <td>Kian Feng Loh</td>\n",
       "      <td>0.00</td>\n",
       "      <td>august</td>\n",
       "      <td>2023</td>\n",
       "      <td>2024-01-01T02:00:00.000Z</td>\n",
       "    </tr>\n",
       "  </tbody>\n",
       "</table>\n",
       "</div>"
      ],
      "text/plain": [
       "      Name       Full_Name  Level batch_month batch_year  \\\n",
       "0  wehuang  Weizheng Huang   0.61      august       2023   \n",
       "1    rteoh       Ryan Teoh   0.00      august       2023   \n",
       "2    ychai  Yong Kang Chai   0.00      august       2023   \n",
       "3  tjun-yu      Tan Jun Yu   0.00      august       2023   \n",
       "4    kiloh   Kian Feng Loh   0.00      august       2023   \n",
       "\n",
       "             blackhole_date  \n",
       "0  2024-02-18T02:00:00.000Z  \n",
       "1  2024-01-01T02:00:00.000Z  \n",
       "2  2024-01-01T02:00:00.000Z  \n",
       "3  2024-01-01T02:00:00.000Z  \n",
       "4  2024-01-01T02:00:00.000Z  "
      ]
     },
     "execution_count": 8,
     "metadata": {},
     "output_type": "execute_result"
    }
   ],
   "source": [
    "df = make_data(json_data, 5)\n",
    "df.head()"
   ]
  },
  {
   "cell_type": "code",
   "execution_count": 9,
   "metadata": {},
   "outputs": [],
   "source": [
    "from datetime import datetime\n",
    "\n",
    "def str_date(s: str, format: str) -> datetime:\n",
    "\tif (s == None):\n",
    "\t\treturn (None)\n",
    "\ts = s[0: 10]\n",
    "\tprint(s)\n",
    "\treturn (datetime.strptime(s, format))"
   ]
  },
  {
   "cell_type": "code",
   "execution_count": 10,
   "metadata": {},
   "outputs": [
    {
     "name": "stdout",
     "output_type": "stream",
     "text": [
      "now = datetime.datetime(2023, 10, 7, 18, 6, 51, 564390)\n"
     ]
    }
   ],
   "source": [
    "now = datetime.now()\n",
    "print(f\"{now = }\")"
   ]
  },
  {
   "cell_type": "code",
   "execution_count": 11,
   "metadata": {},
   "outputs": [
    {
     "name": "stdout",
     "output_type": "stream",
     "text": [
      "344\n",
      "i = 170\n",
      "i = 214\n",
      "i = 218\n",
      "i = 227\n",
      "i = 237\n",
      "i = 284\n",
      "i = 285\n",
      "i = 287\n",
      "i = 289\n",
      "i = 298\n",
      "i = 299\n",
      "i = 303\n",
      "i = 308\n",
      "i = 330\n",
      "i = 339\n",
      "Name                   edlim\n",
      "Full_Name         Edison Lim\n",
      "Level                  10.83\n",
      "batch_month         february\n",
      "batch_year              2022\n",
      "blackhole_date          None\n",
      "Name: 214, dtype: object\n"
     ]
    }
   ],
   "source": [
    "print(len(df['blackhole_date']))\n",
    "for i in range(0, len(df['blackhole_date']) - 1):\n",
    "\tif (df['blackhole_date'][i] == None):\n",
    "\t\tprint(f\"{i = }\")\n",
    "\telif (len(df['blackhole_date'][i]) > 24):\n",
    "\t\tprint('something')\n",
    "print(df.iloc[214, :])"
   ]
  },
  {
   "cell_type": "code",
   "execution_count": 14,
   "metadata": {},
   "outputs": [
    {
     "name": "stdout",
     "output_type": "stream",
     "text": [
      "<class 'str'>\n",
      "2022-10-05T02:00:00.000Z\n",
      "2022-10-05\n",
      "t = datetime.datetime(2022, 10, 5, 0, 0)\n"
     ]
    }
   ],
   "source": [
    "print(type(df['blackhole_date'][213]))\n",
    "print(df['blackhole_date'][213])\n",
    "t = str_date(df['blackhole_date'][213], \"%Y-%m-%d\")\n",
    "print(f\"{t = }\")"
   ]
  },
  {
   "cell_type": "code",
   "execution_count": 15,
   "metadata": {},
   "outputs": [
    {
     "name": "stdout",
     "output_type": "stream",
     "text": [
      "-368\n",
      "<class 'int'>\n"
     ]
    }
   ],
   "source": [
    "now = datetime.now()\n",
    "delta = t - now\n",
    "print((t - now).days)\n",
    "print(type(delta.days))"
   ]
  },
  {
   "cell_type": "code",
   "execution_count": 16,
   "metadata": {},
   "outputs": [],
   "source": [
    "from datetime import datetime\n",
    "\n",
    "def str_date(s: str) -> datetime:\n",
    "\tif (s == None):\n",
    "\t\treturn (None)\n",
    "\tformat = \"%Y-%m-%d\"\n",
    "\ts = s[0: 10]\n",
    "\treturn (datetime.strptime(s, format))"
   ]
  },
  {
   "cell_type": "code",
   "execution_count": 18,
   "metadata": {},
   "outputs": [],
   "source": [
    "def make_data(json_list: list, now: datetime) -> pd.DataFrame:\n",
    "\tdata = {\"Name\": [], \"Full_Name\": [], \"Level\": [],\n",
    "\t\t\t\"batch_month\": [], \"batch_year\": [], \n",
    "\t\t\t\"blackhole_date\": [], \"days_before_blackhole\": [], \"status\": []}\n",
    "\tfor i in range(0, len(json_list[0])):\n",
    "\t\tdata[\"Name\"].append(json_list[0][i][\"login\"])\n",
    "\t\tdata[\"Full_Name\"].append(json_list[0][i][\"displayname\"])\n",
    "\t\tdata[\"batch_month\"].append(json_list[0][i][\"pool_month\"])\n",
    "\t\tdata[\"batch_year\"].append(json_list[0][i][\"pool_year\"])\n",
    "\t\tdata[\"Level\"].append(json_list[0][i][\"cursus_users\"][1][\"level\"])\n",
    "\t\tt = str_date(json_list[0][i][\"cursus_users\"][1][\"blackholed_at\"])\n",
    "\t\tif (t):\n",
    "\t\t\tdiff = (t - now).days\n",
    "\t\telse:\n",
    "\t\t\tdiff = None\n",
    "\t\tdata[\"blackhole_date\"].append(t)\n",
    "\t\tdata[\"days_before_blackhole\"].append(diff)\n",
    "\t\tgrade = json_list[0][i]['cursus_users'][1]['grade']\n",
    "\t\tif (diff is None and grade in [\"Member\", \"Learner\"]):\n",
    "\t\t\tdata[\"status\"].append(\"Specialisation\")\n",
    "\t\telif (diff < 0 and grade not in [\"Member\", \"Learner\"]):\n",
    "\t\t\tdata[\"status\"].append(\"Dropped out\")\n",
    "\t\telif (diff > 0 and grade in [\"Member\", \"Learner\"]):\n",
    "\t\t\tdata[\"status\"].append(\"In Core\")\n",
    "\t\telse:\n",
    "\t\t\tdata[\"status\"].append(\"Unknown\")\n",
    "\treturn (pd.DataFrame(data))"
   ]
  },
  {
   "cell_type": "code",
   "execution_count": 19,
   "metadata": {},
   "outputs": [
    {
     "data": {
      "text/html": [
       "<div>\n",
       "<style scoped>\n",
       "    .dataframe tbody tr th:only-of-type {\n",
       "        vertical-align: middle;\n",
       "    }\n",
       "\n",
       "    .dataframe tbody tr th {\n",
       "        vertical-align: top;\n",
       "    }\n",
       "\n",
       "    .dataframe thead th {\n",
       "        text-align: right;\n",
       "    }\n",
       "</style>\n",
       "<table border=\"1\" class=\"dataframe\">\n",
       "  <thead>\n",
       "    <tr style=\"text-align: right;\">\n",
       "      <th></th>\n",
       "      <th>Name</th>\n",
       "      <th>Full_Name</th>\n",
       "      <th>Level</th>\n",
       "      <th>batch_month</th>\n",
       "      <th>batch_year</th>\n",
       "      <th>blackhole_date</th>\n",
       "      <th>days_before_blackhole</th>\n",
       "      <th>status</th>\n",
       "    </tr>\n",
       "  </thead>\n",
       "  <tbody>\n",
       "    <tr>\n",
       "      <th>0</th>\n",
       "      <td>wehuang</td>\n",
       "      <td>Weizheng Huang</td>\n",
       "      <td>0.61</td>\n",
       "      <td>august</td>\n",
       "      <td>2023</td>\n",
       "      <td>2024-02-18</td>\n",
       "      <td>133.0</td>\n",
       "      <td>In Core</td>\n",
       "    </tr>\n",
       "    <tr>\n",
       "      <th>1</th>\n",
       "      <td>rteoh</td>\n",
       "      <td>Ryan Teoh</td>\n",
       "      <td>0.00</td>\n",
       "      <td>august</td>\n",
       "      <td>2023</td>\n",
       "      <td>2024-01-01</td>\n",
       "      <td>85.0</td>\n",
       "      <td>In Core</td>\n",
       "    </tr>\n",
       "    <tr>\n",
       "      <th>2</th>\n",
       "      <td>ychai</td>\n",
       "      <td>Yong Kang Chai</td>\n",
       "      <td>0.00</td>\n",
       "      <td>august</td>\n",
       "      <td>2023</td>\n",
       "      <td>2024-01-01</td>\n",
       "      <td>85.0</td>\n",
       "      <td>In Core</td>\n",
       "    </tr>\n",
       "    <tr>\n",
       "      <th>3</th>\n",
       "      <td>tjun-yu</td>\n",
       "      <td>Tan Jun Yu</td>\n",
       "      <td>0.00</td>\n",
       "      <td>august</td>\n",
       "      <td>2023</td>\n",
       "      <td>2024-01-01</td>\n",
       "      <td>85.0</td>\n",
       "      <td>In Core</td>\n",
       "    </tr>\n",
       "    <tr>\n",
       "      <th>4</th>\n",
       "      <td>kiloh</td>\n",
       "      <td>Kian Feng Loh</td>\n",
       "      <td>0.00</td>\n",
       "      <td>august</td>\n",
       "      <td>2023</td>\n",
       "      <td>2024-01-01</td>\n",
       "      <td>85.0</td>\n",
       "      <td>In Core</td>\n",
       "    </tr>\n",
       "  </tbody>\n",
       "</table>\n",
       "</div>"
      ],
      "text/plain": [
       "      Name       Full_Name  Level batch_month batch_year blackhole_date  \\\n",
       "0  wehuang  Weizheng Huang   0.61      august       2023     2024-02-18   \n",
       "1    rteoh       Ryan Teoh   0.00      august       2023     2024-01-01   \n",
       "2    ychai  Yong Kang Chai   0.00      august       2023     2024-01-01   \n",
       "3  tjun-yu      Tan Jun Yu   0.00      august       2023     2024-01-01   \n",
       "4    kiloh   Kian Feng Loh   0.00      august       2023     2024-01-01   \n",
       "\n",
       "   days_before_blackhole   status  \n",
       "0                  133.0  In Core  \n",
       "1                   85.0  In Core  \n",
       "2                   85.0  In Core  \n",
       "3                   85.0  In Core  \n",
       "4                   85.0  In Core  "
      ]
     },
     "execution_count": 19,
     "metadata": {},
     "output_type": "execute_result"
    }
   ],
   "source": [
    "df = make_data(json_data, datetime.now())\n",
    "df.head()"
   ]
  },
  {
   "cell_type": "code",
   "execution_count": null,
   "metadata": {},
   "outputs": [],
   "source": [
    "\n",
    "# import module\n",
    "import pandas as pd\n",
    " \n",
    "# assign data\n",
    "dataFrame = pd.DataFrame({'Name': [' RACHEL  ', ' MONICA  ', ' PHOEBE  ',\n",
    "                                   '  ROSS    ', 'CHANDLER', ' JOEY    '],\n",
    "                           \n",
    "                          'Age': [30, 35, 37, 33, 34, 30],\n",
    "                           \n",
    "                          'Salary': [100000, 93000, 88000, 120000, 94000, 95000],\n",
    "                           \n",
    "                          'JOB': ['DESIGNER', 'CHEF', 'MASUS', 'PALENTOLOGY',\n",
    "                                  'IT', 'ARTIST']})\n",
    "# filter dataframe\n",
    "display(dataFrame.loc[(dataFrame['Salary']>=100000) & (dataFrame['Age']< 40) & (dataFrame['JOB'].str.startswith('D')),\n",
    "                    ['Name','JOB']])"
   ]
  },
  {
   "cell_type": "code",
   "execution_count": 43,
   "metadata": {},
   "outputs": [
    {
     "data": {
      "text/plain": [
       "(array([3., 1., 5.]), array([ 0,  7, 14, 30]), <a list of 3 Patch objects>)"
      ]
     },
     "execution_count": 43,
     "metadata": {},
     "output_type": "execute_result"
    },
    {
     "data": {
      "image/png": "[encoded data removed]",
      "text/plain": [
       "<Figure size 432x288 with 1 Axes>"
      ]
     },
     "metadata": {
      "needs_background": "light"
     },
     "output_type": "display_data"
    }
   ],
   "source": [
    "from matplotlib import pyplot as plt\n",
    "\n",
    "# try to filter ppl from batch 2020 august and those how are \n",
    "# 0-14, 14-30, 30+\n",
    "\n",
    "bins = [0, 7, 14, 30]\n",
    "temp = df.loc[(df['batch_month'] == \"august\" ) & (df['batch_year'] == \"2022\") & (df['days_before_blackhole'] > 0)]\n",
    "temp.head()\n",
    "# color_list=['black', 'red', 'green', 'blue', 'cyan']\n",
    "# colours = []\n",
    "# l = len(color_list)\n",
    "# k = 0\n",
    "# for i in range(0, len(bins)):\n",
    "# \tcolours.append(color_list[i - k])\n",
    "# \tif (i == l - 1):\n",
    "# \t\tk += 5\n",
    "# print(colours)\n",
    "plt.hist(temp['days_before_blackhole'], bins=bins, color=\"lightblue\", edgecolor='black')"
   ]
  },
  {
   "cell_type": "code",
   "execution_count": null,
   "metadata": {},
   "outputs": [],
   "source": []
  }
 ],
 "metadata": {
  "kernelspec": {
   "display_name": "base",
   "language": "python",
   "name": "python3"
  },
  "language_info": {
   "codemirror_mode": {
    "name": "ipython",
    "version": 3
   },
   "file_extension": ".py",
   "mimetype": "text/x-python",
   "name": "python",
   "nbconvert_exporter": "python",
   "pygments_lexer": "ipython3",
   "version": "3.8.3"
  },
  "orig_nbformat": 4
 },
 "nbformat": 4,
 "nbformat_minor": 2
}

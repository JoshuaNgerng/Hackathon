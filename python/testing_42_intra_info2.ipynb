{
 "cells": [
  {
   "cell_type": "code",
   "execution_count": 1,
   "metadata": {},
   "outputs": [],
   "source": [
    "import json\n",
    "import pandas as pd"
   ]
  },
  {
   "cell_type": "code",
   "execution_count": 13,
   "metadata": {},
   "outputs": [],
   "source": [
    "json_data = []\n",
    "with open('cadets.json', 'r') as f:\n",
    "    for line in f:\n",
    "        json_data.append(json.loads(line))"
   ]
  },
  {
   "cell_type": "code",
   "execution_count": 17,
   "metadata": {},
   "outputs": [
    {
     "name": "stdout",
     "output_type": "stream",
     "text": [
      "1\n"
     ]
    }
   ],
   "source": [
    "# json_data[0]\n",
    "print(len(json_data))"
   ]
  },
  {
   "cell_type": "code",
   "execution_count": 16,
   "metadata": {},
   "outputs": [
    {
     "name": "stdout",
     "output_type": "stream",
     "text": [
      "<class 'dict'>\n",
      "id\n",
      "email\n",
      "login\n",
      "first_name\n",
      "last_name\n",
      "usual_full_name\n",
      "usual_first_name\n",
      "url\n",
      "phone\n",
      "displayname\n",
      "kind\n",
      "image\n",
      "staff?\n",
      "correction_point\n",
      "pool_month\n",
      "pool_year\n",
      "location\n",
      "wallet\n",
      "anonymize_date\n",
      "data_erasure_date\n",
      "created_at\n",
      "updated_at\n",
      "alumnized_at\n",
      "alumni?\n",
      "active?\n",
      "groups\n",
      "cursus_users\n",
      "projects_users\n",
      "languages_users\n",
      "achievements\n",
      "titles\n",
      "titles_users\n",
      "partnerships\n",
      "patroned\n",
      "patroning\n",
      "expertises_users\n",
      "roles\n",
      "campus\n",
      "campus_users\n"
     ]
    }
   ],
   "source": [
    "print(type(json_data[0][1]))\n",
    "for key in json_data[0][0]:\n",
    "\tprint(key)"
   ]
  },
  {
   "cell_type": "code",
   "execution_count": 8,
   "metadata": {},
   "outputs": [
    {
     "name": "stdout",
     "output_type": "stream",
     "text": [
      "['wehuang', 'https://api.intra.42.fr/v2/users/wehuang', 'Weizheng Huang', 'august', '2023']\n"
     ]
    }
   ],
   "source": [
    "keys = [\"login\", \"url\", \"displayname\", \"pool_month\", \"pool_year\"]\n",
    "list1 = [json_data[0][0][key] for key in keys]\n",
    "print(list1)"
   ]
  },
  {
   "cell_type": "code",
   "execution_count": 11,
   "metadata": {},
   "outputs": [
    {
     "name": "stdout",
     "output_type": "stream",
     "text": [
      "['wehuang', 'https://api.intra.42.fr/v2/users/wehuang', 'Weizheng Huang', 'august', '2023', '2024-02-18T02:00:00.000Z', '2024-02-18T02:00:00.000Z']\n",
      "<class 'str'>\n",
      "<class 'str'>\n",
      "<class 'str'>\n",
      "<class 'str'>\n",
      "<class 'str'>\n",
      "<class 'str'>\n",
      "<class 'str'>\n"
     ]
    }
   ],
   "source": [
    "list_t = json_data[0][0][\"cursus_users\"][1]\n",
    "list1.append(list_t[\"blackholed_at\"])\n",
    "print(list1)\n",
    "for i in range(0, len(list1)):\n",
    "\tprint(type(list1[i]))"
   ]
  },
  {
   "cell_type": "code",
   "execution_count": 21,
   "metadata": {},
   "outputs": [],
   "source": [
    "def make_data(json_list: list, now: int) -> pd.DataFrame:\n",
    "\tdata = {\"Name\": [], \"Full_Name\": [], \"Level\": [],\n",
    "\t\t\t\"batch_month\": [], \"batch_year\": [], \n",
    "\t\t\t\"blackhole_date\": []}#, \"days_before_blackhole\": []}\n",
    "\tfor i in range(0, len(json_list[0])):\n",
    "\t\tdata[\"Name\"].append(json_list[0][i][\"login\"])\n",
    "\t\tdata[\"Full_Name\"].append(json_list[0][i][\"displayname\"])\n",
    "\t\tdata[\"batch_month\"].append(json_list[0][i][\"pool_month\"])\n",
    "\t\tdata[\"batch_year\"].append(json_list[0][i][\"pool_year\"])\n",
    "\t\tdata[\"Level\"].append(json_list[0][i][\"cursus_users\"][1][\"level\"])\n",
    "\t\tdata[\"blackhole_date\"].append(json_list[0][i][\"cursus_users\"][1][\"blackholed_at\"])\n",
    "\treturn (pd.DataFrame(data))"
   ]
  },
  {
   "cell_type": "code",
   "execution_count": 22,
   "metadata": {},
   "outputs": [
    {
     "data": {
      "text/html": [
       "<div>\n",
       "<style scoped>\n",
       "    .dataframe tbody tr th:only-of-type {\n",
       "        vertical-align: middle;\n",
       "    }\n",
       "\n",
       "    .dataframe tbody tr th {\n",
       "        vertical-align: top;\n",
       "    }\n",
       "\n",
       "    .dataframe thead th {\n",
       "        text-align: right;\n",
       "    }\n",
       "</style>\n",
       "<table border=\"1\" class=\"dataframe\">\n",
       "  <thead>\n",
       "    <tr style=\"text-align: right;\">\n",
       "      <th></th>\n",
       "      <th>Name</th>\n",
       "      <th>Full_Name</th>\n",
       "      <th>batch_month</th>\n",
       "      <th>batch_year</th>\n",
       "      <th>blackhole_date</th>\n",
       "    </tr>\n",
       "  </thead>\n",
       "  <tbody>\n",
       "    <tr>\n",
       "      <th>0</th>\n",
       "      <td>wehuang</td>\n",
       "      <td>Weizheng Huang</td>\n",
       "      <td>august</td>\n",
       "      <td>2023</td>\n",
       "      <td>2024-02-18T02:00:00.000Z</td>\n",
       "    </tr>\n",
       "    <tr>\n",
       "      <th>1</th>\n",
       "      <td>rteoh</td>\n",
       "      <td>Ryan Teoh</td>\n",
       "      <td>august</td>\n",
       "      <td>2023</td>\n",
       "      <td>2024-01-01T02:00:00.000Z</td>\n",
       "    </tr>\n",
       "    <tr>\n",
       "      <th>2</th>\n",
       "      <td>ychai</td>\n",
       "      <td>Yong Kang Chai</td>\n",
       "      <td>august</td>\n",
       "      <td>2023</td>\n",
       "      <td>2024-01-01T02:00:00.000Z</td>\n",
       "    </tr>\n",
       "    <tr>\n",
       "      <th>3</th>\n",
       "      <td>tjun-yu</td>\n",
       "      <td>Tan Jun Yu</td>\n",
       "      <td>august</td>\n",
       "      <td>2023</td>\n",
       "      <td>2024-01-01T02:00:00.000Z</td>\n",
       "    </tr>\n",
       "    <tr>\n",
       "      <th>4</th>\n",
       "      <td>kiloh</td>\n",
       "      <td>Kian Feng Loh</td>\n",
       "      <td>august</td>\n",
       "      <td>2023</td>\n",
       "      <td>2024-01-01T02:00:00.000Z</td>\n",
       "    </tr>\n",
       "  </tbody>\n",
       "</table>\n",
       "</div>"
      ],
      "text/plain": [
       "      Name       Full_Name batch_month batch_year            blackhole_date\n",
       "0  wehuang  Weizheng Huang      august       2023  2024-02-18T02:00:00.000Z\n",
       "1    rteoh       Ryan Teoh      august       2023  2024-01-01T02:00:00.000Z\n",
       "2    ychai  Yong Kang Chai      august       2023  2024-01-01T02:00:00.000Z\n",
       "3  tjun-yu      Tan Jun Yu      august       2023  2024-01-01T02:00:00.000Z\n",
       "4    kiloh   Kian Feng Loh      august       2023  2024-01-01T02:00:00.000Z"
      ]
     },
     "execution_count": 22,
     "metadata": {},
     "output_type": "execute_result"
    }
   ],
   "source": [
    "df = make_data(json_data, 5)\n",
    "df.head()"
   ]
  }
 ],
 "metadata": {
  "kernelspec": {
   "display_name": "base",
   "language": "python",
   "name": "python3"
  },
  "language_info": {
   "codemirror_mode": {
    "name": "ipython",
    "version": 3
   },
   "file_extension": ".py",
   "mimetype": "text/x-python",
   "name": "python",
   "nbconvert_exporter": "python",
   "pygments_lexer": "ipython3",
   "version": "3.8.3"
  },
  "orig_nbformat": 4
 },
 "nbformat": 4,
 "nbformat_minor": 2
}
